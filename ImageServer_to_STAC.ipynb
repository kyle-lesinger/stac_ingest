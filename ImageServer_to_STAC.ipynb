{
 "cells": [
  {
   "cell_type": "code",
   "execution_count": 7,
   "id": "a37ad9bd-6bd7-4113-8cd7-66469edb8f9c",
   "metadata": {},
   "outputs": [],
   "source": [
    "%load_ext autoreload \n",
    "%autoreload 2\n",
    "\n",
    "import sys\n",
    "sys.path.append('/home/jovyan/veda-docs/notebooks/veda-operations/kyle-lesinger/pyarc2stac')\n",
    "from pyarc2stac import convert_to_collection_stac\n",
    "import pyarc2stac.arc as arc\n",
    "from pyarc2stac import utils\n",
    "import json\n",
    "\n"
   ]
  },
  {
   "cell_type": "code",
   "execution_count": null,
   "id": "30e8ce0b-2c57-455f-987d-192a77ba3d8d",
   "metadata": {},
   "outputs": [],
   "source": []
  },
  {
   "cell_type": "code",
   "execution_count": null,
   "id": "6b3384da-2647-46f3-8622-3260b1d9edf9",
   "metadata": {},
   "outputs": [],
   "source": [
    "json.dumps(data, indent=4)"
   ]
  },
  {
   "cell_type": "code",
   "execution_count": 20,
   "id": "f448d325-7354-42e4-96d9-8079e2a9c8d1",
   "metadata": {},
   "outputs": [],
   "source": [
    "imageserverURL=[\n",
    "'https://maps.disasters.nasa.gov/ags03/rest/services/NRT/lis_rsm_conus/ImageServer',\\\n",
    "'https://maps.disasters.nasa.gov/ags03/rest/services/NRT/lis_rsm_2m/ImageServer',\\\n",
    "'https://maps.disasters.nasa.gov/ags03/rest/services/NRT/lis_vsm_percentile_100cm/ImageServer',\\\n",
    "'https://maps.disasters.nasa.gov/ags03/rest/services/NRT/lis_vsm_percentile_10cm/ImageServer',\\\n",
    "'https://maps.disasters.nasa.gov/ags03/rest/services/NRT/lis_vsm_percentile_200cm/ImageServer',\\\n",
    "'https://maps.disasters.nasa.gov/ags03/rest/services/NRT/lis_vsm_percentile_40cm/ImageServer',\\\n",
    "'https://maps.disasters.nasa.gov/ags03/rest/services/NRT/lis_ak_green_veg_fraction/ImageServer',\\\n",
    "'https://maps.disasters.nasa.gov/ags03/rest/services/NRT/lis_ak_rsm_10cm/ImageServer',\\\n",
    "'https://maps.disasters.nasa.gov/ags03/rest/services/NRT/lis_ak_rsm_40cm/ImageServer',\\\n",
    "'https://maps.disasters.nasa.gov/ags03/rest/services/NRT/lis_ak_snow_depth/ImageServer',\\\n",
    "'https://maps.disasters.nasa.gov/ags03/rest/services/NRT/modis_flood_1_day/ImageServer',\\\n",
    "'https://maps.disasters.nasa.gov/ags03/rest/services/NRT/modis_flood_2_day/ImageServer',\\\n",
    "'https://maps.disasters.nasa.gov/ags03/rest/services/NRT/modis_flood_3_day/ImageServer',\\\n",
    "]\n",
    "\n"
   ]
  },
  {
   "cell_type": "code",
   "execution_count": 21,
   "id": "13237b3a-3f3a-446e-8eca-793f365801ae",
   "metadata": {},
   "outputs": [
    {
     "data": {
      "text/plain": [
       "['lis_rsm_conus',\n",
       " 'lis_rsm_2m',\n",
       " 'lis_vsm_percentile_100cm',\n",
       " 'lis_vsm_percentile_10cm',\n",
       " 'lis_vsm_percentile_200cm',\n",
       " 'lis_vsm_percentile_40cm',\n",
       " 'lis_ak_green_veg_fraction',\n",
       " 'lis_ak_rsm_10cm',\n",
       " 'lis_ak_rsm_40cm',\n",
       " 'lis_ak_snow_depth',\n",
       " 'modis_flood_1_day',\n",
       " 'modis_flood_2_day',\n",
       " 'modis_flood_3_day']"
      ]
     },
     "execution_count": 21,
     "metadata": {},
     "output_type": "execute_result"
    }
   ],
   "source": [
    "imageserverURLNAMES"
   ]
  },
  {
   "cell_type": "code",
   "execution_count": 22,
   "id": "0b8b79a7-2cb8-4e77-ba19-685092b00574",
   "metadata": {},
   "outputs": [],
   "source": [
    "switch_function = {\n",
    "    \"Image\": arc.convert_image_server_to_collection_stac,\n",
    "    \"Map\": arc.convert_map_server_to_collection_stac,\n",
    "    \"Feature\": arc.convert_feature_server_to_collection_stac,\n",
    "}"
   ]
  },
  {
   "cell_type": "code",
   "execution_count": 46,
   "id": "bb2e974a-2539-496f-87ed-e6c109238ac2",
   "metadata": {},
   "outputs": [],
   "source": [
    "def add_server_to_list(imageserverURL: str):\n",
    "    '''Accepts a list of website servers (Image or Map Servers)\n",
    "    and returns pyarc2stac object(s) and the dataname'''\n",
    "    \n",
    "    collection_list, imageserverURLNAMES = [], []\n",
    "    \n",
    "    '''Helpful for debugging which links are broken'''\n",
    "    for idx,i in enumerate(imageserverURL):\n",
    "        print(i)\n",
    "        collection_list.append(convert_to_collection_stac(server_url=i))\n",
    "\n",
    "    #create names\n",
    "    imageserverURLNAMES = [i.split('/')[-2] for i in imageserverURL]\n",
    "    return collection_list, imageserverURLNAMES"
   ]
  },
  {
   "cell_type": "code",
   "execution_count": 47,
   "id": "e275be68-147a-4c56-b8c4-a859c853d065",
   "metadata": {},
   "outputs": [
    {
     "name": "stdout",
     "output_type": "stream",
     "text": [
      "https://maps.disasters.nasa.gov/ags03/rest/services/NRT/lis_rsm_conus/ImageServer\n",
      "https://maps.disasters.nasa.gov/ags03/rest/services/NRT/lis_rsm_2m/ImageServer\n",
      "https://maps.disasters.nasa.gov/ags03/rest/services/NRT/lis_vsm_percentile_100cm/ImageServer\n",
      "https://maps.disasters.nasa.gov/ags03/rest/services/NRT/lis_vsm_percentile_10cm/ImageServer\n",
      "https://maps.disasters.nasa.gov/ags03/rest/services/NRT/lis_vsm_percentile_200cm/ImageServer\n",
      "https://maps.disasters.nasa.gov/ags03/rest/services/NRT/lis_vsm_percentile_40cm/ImageServer\n",
      "https://maps.disasters.nasa.gov/ags03/rest/services/NRT/lis_ak_green_veg_fraction/ImageServer\n",
      "https://maps.disasters.nasa.gov/ags03/rest/services/NRT/lis_ak_rsm_10cm/ImageServer\n",
      "https://maps.disasters.nasa.gov/ags03/rest/services/NRT/lis_ak_rsm_40cm/ImageServer\n",
      "https://maps.disasters.nasa.gov/ags03/rest/services/NRT/lis_ak_snow_depth/ImageServer\n",
      "https://maps.disasters.nasa.gov/ags03/rest/services/NRT/modis_flood_1_day/ImageServer\n",
      "https://maps.disasters.nasa.gov/ags03/rest/services/NRT/modis_flood_2_day/ImageServer\n",
      "https://maps.disasters.nasa.gov/ags03/rest/services/NRT/modis_flood_3_day/ImageServer\n"
     ]
    }
   ],
   "source": [
    "collection_list, imageserverURLNAMES = add_server_to_list(imageserverURL=imageserverURL)"
   ]
  },
  {
   "cell_type": "code",
   "execution_count": 57,
   "id": "04c1207f-84b8-4968-8ceb-31166e5f8507",
   "metadata": {},
   "outputs": [],
   "source": [
    "def convert_pystac_to_saveable_json(collection_list, imageserverURLNAMES):\n",
    "\n",
    "    '''Saves pystac collection lists scraped from server into a json file'''\n",
    "    for idx,i in enumerate(collection_list):\n",
    "        with open(f\"{imageserverURLNAMES[idx]}.json\", \"w\") as file:\n",
    "            file.write(json.dumps(collection_list[idx].to_dict(),indent=4))\n",
    "    return \"Saving complete\""
   ]
  },
  {
   "cell_type": "code",
   "execution_count": 58,
   "id": "b9c7941a-2e9b-40b1-9370-86978f2ec685",
   "metadata": {},
   "outputs": [
    {
     "data": {
      "text/plain": [
       "'Saving complete'"
      ]
     },
     "execution_count": 58,
     "metadata": {},
     "output_type": "execute_result"
    }
   ],
   "source": [
    "convert_pystac_to_saveable_json(collection_list, imageserverURLNAMES)"
   ]
  },
  {
   "cell_type": "code",
   "execution_count": null,
   "id": "b6876489-6296-409c-b385-e29a9a441d44",
   "metadata": {},
   "outputs": [],
   "source": []
  }
 ],
 "metadata": {
  "kernelspec": {
   "display_name": "Python 3 (ipykernel)",
   "language": "python",
   "name": "python3"
  },
  "language_info": {
   "codemirror_mode": {
    "name": "ipython",
    "version": 3
   },
   "file_extension": ".py",
   "mimetype": "text/x-python",
   "name": "python",
   "nbconvert_exporter": "python",
   "pygments_lexer": "ipython3",
   "version": "3.12.7"
  }
 },
 "nbformat": 4,
 "nbformat_minor": 5
}
